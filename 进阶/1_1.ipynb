{
 "cells": [
  {
   "cell_type": "code",
   "execution_count": 0,
   "metadata": {
    "collapsed": true,
    "pycharm": {
     "name": "#%%  # 字典构造器\n"
    }
   },
   "outputs": [],
   "source": []
  },
  {
   "cell_type": "code",
   "execution_count": 1,
   "outputs": [
    {
     "name": "stdout",
     "output_type": "stream",
     "text": [
      "0\n"
     ]
    }
   ],
   "source": [
    "NAME,AGE,SEX,EM = range(4)\n",
    "print(NAME)"
   ],
   "metadata": {
    "collapsed": false,
    "pycharm": {
     "name": "#%% 高级符值方法\n"
    }
   }
  },
  {
   "cell_type": "code",
   "execution_count": 2,
   "outputs": [
    {
     "data": {
      "text/plain": "'jim'"
     },
     "execution_count": 2,
     "metadata": {},
     "output_type": "execute_result"
    }
   ],
   "source": [
    "from collections import namedtuple\n",
    "s = namedtuple('student',['name','age'])\n",
    "s2 = s('jim',12)\n",
    "s2\n",
    "s2.name"
   ],
   "metadata": {
    "collapsed": false,
    "pycharm": {
     "name": "#%% 批量元组命名 元组可以让程序简单化\n"
    }
   }
  },
  {
   "cell_type": "code",
   "execution_count": 2,
   "outputs": [
    {
     "data": {
      "text/plain": "{'a': 64, 'b': 63, 'c': 61, 'd': 67, 'e': 65, 'f': 64, 'g': 62}"
     },
     "execution_count": 2,
     "metadata": {},
     "output_type": "execute_result"
    }
   ],
   "source": [
    "from random import randint\n",
    "a = {k:randint(60,67) for k in 'abcdefg'}\n",
    "a"
   ],
   "metadata": {
    "collapsed": false,
    "pycharm": {
     "name": "#%% 字典排序\n"
    }
   }
  },
  {
   "cell_type": "code",
   "execution_count": 15,
   "outputs": [
    {
     "data": {
      "text/plain": "[(61, 'c'), (62, 'g'), (63, 'b'), (64, 'a'), (64, 'f'), (65, 'e'), (67, 'd')]"
     },
     "execution_count": 15,
     "metadata": {},
     "output_type": "execute_result"
    }
   ],
   "source": [
    "list = [(v,k) for k,v in a.items()]\n",
    "ine= sorted(list)\n",
    "ine"
   ],
   "metadata": {
    "collapsed": false,
    "pycharm": {
     "name": "#%% 列表解析将字典变成列表\n"
    }
   }
  },
  {
   "cell_type": "code",
   "execution_count": 24,
   "outputs": [
    {
     "data": {
      "text/plain": "{'d': (1, 67),\n 'e': (2, 65),\n 'a': (3, 64),\n 'f': (4, 64),\n 'b': (5, 63),\n 'g': (6, 62),\n 'c': (7, 61)}"
     },
     "execution_count": 24,
     "metadata": {},
     "output_type": "execute_result"
    }
   ],
   "source": [
    "D = sorted(a.items(),key=lambda item:item[1],reverse=True)\n",
    "a_change = {k:(i,v) for i,(k,v) in enumerate(D,1)}\n",
    "a_change"
   ],
   "metadata": {
    "collapsed": false,
    "pycharm": {
     "name": "#%% 字典解析+排序+字典重建\n"
    }
   }
  },
  {
   "cell_type": "code",
   "execution_count": 36,
   "outputs": [
    {
     "name": "stdout",
     "output_type": "stream",
     "text": [
      "[('of', 4), ('the', 3)]\n"
     ]
    }
   ],
   "source": [
    "import re\n",
    "from collections import Counter\n",
    "word = open('word.txt', 'r', encoding='UTF-8')\n",
    "words = word.read()\n",
    "word_list = re.split(' ', words)\n",
    "word_most = Counter(word_list).most_common(2)\n",
    "print(word_most)"
   ],
   "metadata": {
    "collapsed": false,
    "pycharm": {
     "name": "#%% 词频统计\n"
    }
   }
  },
  {
   "cell_type": "code",
   "execution_count": 47,
   "outputs": [
    {
     "data": {
      "text/plain": "{'e': 6, 's': 2, 't': 2, 'g': 5}"
     },
     "execution_count": 47,
     "metadata": {},
     "output_type": "execute_result"
    }
   ],
   "source": [
    "from random import randint,sample\n",
    "sample('qesget',3)\n",
    "ri = {k:randint(1,6) for k in sample('qesgetde',randint(1,5))}\n",
    "r2 = {k:randint(1,6) for k in sample('qesgetde',randint(1,5))}\n",
    "r1\n",
    "r2"
   ],
   "metadata": {
    "collapsed": false,
    "pycharm": {
     "name": "#%% 寻找字典的公共建\n"
    }
   }
  }
 ],
 "metadata": {
  "kernelspec": {
   "name": "pycharm-5f664c0d",
   "language": "python",
   "display_name": "PyCharm (python learning)"
  },
  "language_info": {
   "codemirror_mode": {
    "name": "ipython",
    "version": 2
   },
   "file_extension": ".py",
   "mimetype": "text/x-python",
   "name": "python",
   "nbconvert_exporter": "python",
   "pygments_lexer": "ipython2",
   "version": "2.7.6"
  }
 },
 "nbformat": 4,
 "nbformat_minor": 0
}