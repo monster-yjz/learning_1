{
 "cells": [
  {
   "cell_type": "code",
   "execution_count": 9,
   "metadata": {
    "collapsed": true,
    "pycharm": {
     "name": "#%%  # 字典构造器\n"
    }
   },
   "outputs": [],
   "source": []
  },
  {
   "cell_type": "code",
   "execution_count": 10,
   "outputs": [
    {
     "name": "stdout",
     "output_type": "stream",
     "text": [
      "0\n"
     ]
    }
   ],
   "source": [
    "NAME,AGE,SEX,EM = range(4)\n",
    "print(NAME)"
   ],
   "metadata": {
    "collapsed": false,
    "pycharm": {
     "name": "#%% 高级符值方法\n"
    }
   }
  },
  {
   "cell_type": "code",
   "execution_count": 11,
   "outputs": [
    {
     "data": {
      "text/plain": "'jim'"
     },
     "execution_count": 11,
     "metadata": {},
     "output_type": "execute_result"
    }
   ],
   "source": [
    "from collections import namedtuple\n",
    "s = namedtuple('student',['name','age'])\n",
    "s2 = s('jim',12)\n",
    "s2\n",
    "s2.name"
   ],
   "metadata": {
    "collapsed": false,
    "pycharm": {
     "name": "#%% 批量元组命名 元组可以让程序简单化\n"
    }
   }
  },
  {
   "cell_type": "code",
   "execution_count": 12,
   "outputs": [
    {
     "data": {
      "text/plain": "{'a': 65, 'b': 65, 'c': 65, 'd': 67, 'e': 63, 'f': 63, 'g': 60}"
     },
     "execution_count": 12,
     "metadata": {},
     "output_type": "execute_result"
    }
   ],
   "source": [
    "from random import randint\n",
    "a = {k:randint(60,67) for k in 'abcdefg'}\n",
    "a"
   ],
   "metadata": {
    "collapsed": false,
    "pycharm": {
     "name": "#%% 字典排序\n"
    }
   }
  },
  {
   "cell_type": "code",
   "execution_count": 13,
   "outputs": [
    {
     "data": {
      "text/plain": "[(60, 'g'), (63, 'e'), (63, 'f'), (65, 'a'), (65, 'b'), (65, 'c'), (67, 'd')]"
     },
     "execution_count": 13,
     "metadata": {},
     "output_type": "execute_result"
    }
   ],
   "source": [
    "list = [(v,k) for k,v in a.items()]\n",
    "ine= sorted(list)\n",
    "ine"
   ],
   "metadata": {
    "collapsed": false,
    "pycharm": {
     "name": "#%% 列表解析将字典变成列表\n"
    }
   }
  },
  {
   "cell_type": "code",
   "execution_count": 14,
   "outputs": [
    {
     "data": {
      "text/plain": "{'d': (1, 67),\n 'a': (2, 65),\n 'b': (3, 65),\n 'c': (4, 65),\n 'e': (5, 63),\n 'f': (6, 63),\n 'g': (7, 60)}"
     },
     "execution_count": 14,
     "metadata": {},
     "output_type": "execute_result"
    }
   ],
   "source": [
    "D = sorted(a.items(),key=lambda item:item[1],reverse=True)\n",
    "a_change = {k:(i,v) for i,(k,v) in enumerate(D,1)}\n",
    "a_change"
   ],
   "metadata": {
    "collapsed": false,
    "pycharm": {
     "name": "#%% 字典解析+排序+字典重建\n"
    }
   }
  },
  {
   "cell_type": "code",
   "execution_count": 15,
   "outputs": [
    {
     "ename": "FileNotFoundError",
     "evalue": "[Errno 2] No such file or directory: 'word.txt'",
     "output_type": "error",
     "traceback": [
      "\u001B[1;31m---------------------------------------------------------------------------\u001B[0m",
      "\u001B[1;31mFileNotFoundError\u001B[0m                         Traceback (most recent call last)",
      "\u001B[1;32m<ipython-input-15-77f97766204e>\u001B[0m in \u001B[0;36m<module>\u001B[1;34m\u001B[0m\n\u001B[0;32m      1\u001B[0m \u001B[1;32mimport\u001B[0m \u001B[0mre\u001B[0m\u001B[1;33m\u001B[0m\u001B[1;33m\u001B[0m\u001B[0m\n\u001B[0;32m      2\u001B[0m \u001B[1;32mfrom\u001B[0m \u001B[0mcollections\u001B[0m \u001B[1;32mimport\u001B[0m \u001B[0mCounter\u001B[0m\u001B[1;33m\u001B[0m\u001B[1;33m\u001B[0m\u001B[0m\n\u001B[1;32m----> 3\u001B[1;33m \u001B[0mword\u001B[0m \u001B[1;33m=\u001B[0m \u001B[0mopen\u001B[0m\u001B[1;33m(\u001B[0m\u001B[1;34m'word.txt'\u001B[0m\u001B[1;33m,\u001B[0m \u001B[1;34m'r'\u001B[0m\u001B[1;33m,\u001B[0m \u001B[0mencoding\u001B[0m\u001B[1;33m=\u001B[0m\u001B[1;34m'UTF-8'\u001B[0m\u001B[1;33m)\u001B[0m\u001B[1;33m\u001B[0m\u001B[1;33m\u001B[0m\u001B[0m\n\u001B[0m\u001B[0;32m      4\u001B[0m \u001B[0mwords\u001B[0m \u001B[1;33m=\u001B[0m \u001B[0mword\u001B[0m\u001B[1;33m.\u001B[0m\u001B[0mread\u001B[0m\u001B[1;33m(\u001B[0m\u001B[1;33m)\u001B[0m\u001B[1;33m\u001B[0m\u001B[1;33m\u001B[0m\u001B[0m\n\u001B[0;32m      5\u001B[0m \u001B[0mword_list\u001B[0m \u001B[1;33m=\u001B[0m \u001B[0mre\u001B[0m\u001B[1;33m.\u001B[0m\u001B[0msplit\u001B[0m\u001B[1;33m(\u001B[0m\u001B[1;34m' '\u001B[0m\u001B[1;33m,\u001B[0m \u001B[0mwords\u001B[0m\u001B[1;33m)\u001B[0m\u001B[1;33m\u001B[0m\u001B[1;33m\u001B[0m\u001B[0m\n",
      "\u001B[1;31mFileNotFoundError\u001B[0m: [Errno 2] No such file or directory: 'word.txt'"
     ]
    }
   ],
   "source": [
    "import re\n",
    "from collections import Counter\n",
    "word = open('word.txt', 'r', encoding='UTF-8')\n",
    "words = word.read()\n",
    "word_list = re.split(' ', words)\n",
    "word_most = Counter(word_list).most_common(2)\n",
    "print(word_most)"
   ],
   "metadata": {
    "collapsed": false,
    "pycharm": {
     "name": "#%% 词频统计\n"
    }
   }
  },
  {
   "cell_type": "code",
   "execution_count": 19,
   "outputs": [
    {
     "data": {
      "text/plain": "{'q': 5, 's': 5, 'e': 6, 'g': 4, 't': 4}"
     },
     "execution_count": 19,
     "metadata": {},
     "output_type": "execute_result"
    }
   ],
   "source": [
    "from random import randint,sample\n",
    "sample('qesget',3)\n",
    "r1 = {k:randint(4,6) for k in sample('qesgetde',randint(1,9))}\n",
    "r2 = {k:randint(4,6) for k in sample('qesgetde',randint(1,8))}\n",
    "r1\n",
    "r2"
   ],
   "metadata": {
    "collapsed": false,
    "pycharm": {
     "name": "#%% 寻找字典的公共建\n"
    }
   }
  },
  {
   "cell_type": "code",
   "execution_count": 22,
   "outputs": [
    {
     "data": {
      "text/plain": "{'e', 's'}"
     },
     "execution_count": 22,
     "metadata": {},
     "output_type": "execute_result"
    }
   ],
   "source": [
    "R1 = set(r1.keys())\n",
    "R2 = set(r2.keys())\n",
    "R1 & R2\n"
   ],
   "metadata": {
    "collapsed": false,
    "pycharm": {
     "name": "#%%   寻找公共键的的方法可以考虑利用集合\n"
    }
   }
  }
 ],
 "metadata": {
  "kernelspec": {
   "name": "pycharm-2b62e5c1",
   "language": "python",
   "display_name": "PyCharm (python learning)"
  },
  "language_info": {
   "codemirror_mode": {
    "name": "ipython",
    "version": 2
   },
   "file_extension": ".py",
   "mimetype": "text/x-python",
   "name": "python",
   "nbconvert_exporter": "python",
   "pygments_lexer": "ipython2",
   "version": "2.7.6"
  }
 },
 "nbformat": 4,
 "nbformat_minor": 0
}